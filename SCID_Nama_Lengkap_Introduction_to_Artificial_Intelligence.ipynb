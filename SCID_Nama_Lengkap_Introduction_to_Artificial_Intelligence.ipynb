{
  "nbformat": 4,
  "nbformat_minor": 0,
  "metadata": {
    "colab": {
      "provenance": []
    },
    "kernelspec": {
      "name": "python3",
      "display_name": "Python 3"
    },
    "language_info": {
      "name": "python"
    }
  },
  "cells": [
    {
      "cell_type": "markdown",
      "source": [
        "<h1>Team 19C - Introduction to Artificial Intelligence</h1>\n",
        "\n",
        "<p>Nama Anggota:</p>\n",
        "<ul>\n",
        "  <li>SC61914 - I Made Surya Adi Palguna</li>\n",
        "  <li>SC61911 - Muhammad Firzal Anugerah Perdana</li>\n",
        "  <li>SC61917 - Rainata Maharani</li>\n",
        "  <li>SC61903 - Dicky Fadhillah Herlambang</li>\n",
        "  <li>SC61913 - Diva Nabila Herisnan</li>\n",
        "  <li>SC61919 - Amin Fauzan</li>\n",
        "</ul>\n",
        "<p>Kompi: 19</p>"
      ],
      "metadata": {
        "id": "0dUzGNqgvGbY"
      }
    },
    {
      "cell_type": "markdown",
      "source": [
        "## Import Library\n"
      ],
      "metadata": {
        "id": "3T_3v29AROQc"
      }
    },
    {
      "cell_type": "code",
      "source": [
        "import nltk\n",
        "nltk.download(\"popular\")\n",
        "\n",
        "from nltk.tokenize import sent_tokenize, word_tokenize\n",
        "from nltk.corpus import stopwords\n",
        "from nltk.stem import WordNetLemmatizer\n",
        "\n",
        "from sklearn.feature_extraction.text import CountVectorizer"
      ],
      "metadata": {
        "colab": {
          "base_uri": "https://localhost:8080/"
        },
        "id": "K-sbqirnRRWR",
        "outputId": "a2e38a7c-f541-4c49-994c-2e37bca71494"
      },
      "execution_count": null,
      "outputs": [
        {
          "output_type": "stream",
          "name": "stderr",
          "text": [
            "[nltk_data] Downloading collection 'popular'\n",
            "[nltk_data]    | \n",
            "[nltk_data]    | Downloading package cmudict to /root/nltk_data...\n",
            "[nltk_data]    |   Unzipping corpora/cmudict.zip.\n",
            "[nltk_data]    | Downloading package gazetteers to /root/nltk_data...\n",
            "[nltk_data]    |   Unzipping corpora/gazetteers.zip.\n",
            "[nltk_data]    | Downloading package genesis to /root/nltk_data...\n",
            "[nltk_data]    |   Unzipping corpora/genesis.zip.\n",
            "[nltk_data]    | Downloading package gutenberg to /root/nltk_data...\n",
            "[nltk_data]    |   Unzipping corpora/gutenberg.zip.\n",
            "[nltk_data]    | Downloading package inaugural to /root/nltk_data...\n",
            "[nltk_data]    |   Unzipping corpora/inaugural.zip.\n",
            "[nltk_data]    | Downloading package movie_reviews to\n",
            "[nltk_data]    |     /root/nltk_data...\n",
            "[nltk_data]    |   Unzipping corpora/movie_reviews.zip.\n",
            "[nltk_data]    | Downloading package names to /root/nltk_data...\n",
            "[nltk_data]    |   Unzipping corpora/names.zip.\n",
            "[nltk_data]    | Downloading package shakespeare to /root/nltk_data...\n",
            "[nltk_data]    |   Unzipping corpora/shakespeare.zip.\n",
            "[nltk_data]    | Downloading package stopwords to /root/nltk_data...\n",
            "[nltk_data]    |   Unzipping corpora/stopwords.zip.\n",
            "[nltk_data]    | Downloading package treebank to /root/nltk_data...\n",
            "[nltk_data]    |   Unzipping corpora/treebank.zip.\n",
            "[nltk_data]    | Downloading package twitter_samples to\n",
            "[nltk_data]    |     /root/nltk_data...\n",
            "[nltk_data]    |   Unzipping corpora/twitter_samples.zip.\n",
            "[nltk_data]    | Downloading package omw to /root/nltk_data...\n",
            "[nltk_data]    | Downloading package omw-1.4 to /root/nltk_data...\n",
            "[nltk_data]    | Downloading package wordnet to /root/nltk_data...\n",
            "[nltk_data]    | Downloading package wordnet2021 to /root/nltk_data...\n",
            "[nltk_data]    | Downloading package wordnet31 to /root/nltk_data...\n",
            "[nltk_data]    | Downloading package wordnet_ic to /root/nltk_data...\n",
            "[nltk_data]    |   Unzipping corpora/wordnet_ic.zip.\n",
            "[nltk_data]    | Downloading package words to /root/nltk_data...\n",
            "[nltk_data]    |   Unzipping corpora/words.zip.\n",
            "[nltk_data]    | Downloading package maxent_ne_chunker to\n",
            "[nltk_data]    |     /root/nltk_data...\n",
            "[nltk_data]    |   Unzipping chunkers/maxent_ne_chunker.zip.\n",
            "[nltk_data]    | Downloading package punkt to /root/nltk_data...\n",
            "[nltk_data]    |   Unzipping tokenizers/punkt.zip.\n",
            "[nltk_data]    | Downloading package snowball_data to\n",
            "[nltk_data]    |     /root/nltk_data...\n",
            "[nltk_data]    | Downloading package averaged_perceptron_tagger to\n",
            "[nltk_data]    |     /root/nltk_data...\n",
            "[nltk_data]    |   Unzipping taggers/averaged_perceptron_tagger.zip.\n",
            "[nltk_data]    | \n",
            "[nltk_data]  Done downloading collection popular\n"
          ]
        }
      ]
    },
    {
      "cell_type": "markdown",
      "source": [
        "## Klasifikasi Teks Menggunakan BoW"
      ],
      "metadata": {
        "id": "sVmyRfOZRj_d"
      }
    },
    {
      "cell_type": "markdown",
      "source": [
        "#### Text Preprocessing"
      ],
      "metadata": {
        "id": "BORr_Z0PL3aN"
      }
    },
    {
      "cell_type": "code",
      "source": [
        "def text_preprocessing(bow_keys, corpus_texts, text, is_testing=False):\n",
        "  words = word_tokenize(text)\n",
        "  texts = [lemmatizer.lemmatize(word) for word in words if word not in set(stopwords.words('english'))]\n",
        "\n",
        "  if is_testing:\n",
        "    texts = [word for word in texts if word in set(bow_keys)]\n",
        "  else:\n",
        "    bow_keys += texts\n",
        "\n",
        "  text = ' '.join(texts)\n",
        "  corpus_texts.append(text)\n",
        "\n",
        "  return bow_keys, corpus_texts"
      ],
      "metadata": {
        "id": "_6iVsZB0EHCC"
      },
      "execution_count": null,
      "outputs": []
    },
    {
      "cell_type": "code",
      "source": [
        "lemmatizer = WordNetLemmatizer() ## Create object for lemmatizer\n",
        "\n",
        "teks_olaharaga = \"The final Merseyside derby of Jürgen Klopp’s Liverpool reign might well be remembered as the final blow to his dream of signing off with the Premier League title. For the first time in 14 years, and the first time against Klopp, Everton were triumphant against their local rivals at Goodison Park. Victory tasted all the sweeter for Sean Dyche’s team for almost certainly securing their top-flight status at the expense of Liverpool’s title shot. “You lost the league at Goodison Park,” the home crowd bellowed as they rejoiced in a deserved Everton victory, an outstanding Everton performance and the best night of Dyche’s often-troubled reign. The imperious Jarrad Branthwaite and Dominic Calvert-Lewin scored the goals that consigned Liverpool to a hugely damaging defeat. Quite simply, Everton wanted it more. That is damning of the team that arrived with designs on the title and in need of responding to Arsenal’s emphatic defeat of Chelsea the night before. Liverpool have faltered at the worst possible time and in the worst possible places from their perspective. Everton and Manchester United will savour their contributions to the slump. Dyche’s players were fired up and Goodison responded in kind. The old ground pulsated as Everton performed with an intent, intensity and quality that has been absent too often this season. Where has this team been? Calvert-Lewin, an injury doubt on the eve of the game, led the line superbly. It was no coincidence that the supply to the centre-forward improved greatly too. Jack Harrison and Dwight McNeil delivered the service that Calvert-Lewin craves while working tirelessly to help Idrissa Gana Gueye and James Garner assert control in midfield. Liverpool were rattled and vulnerable long before Branthwaite gave Everton an overdue lead. Liverpool were missing Diogo Jota and Cody Gakpo, the latter joining the injured striker on the sidelines after his partner went into labour hours before kick-off. They were also missing composure for long periods and a clinical touch in front of goal, with the toils of Darwin Núñez and Mohamed Salah continuing. Abdoulaye Doucouré had already spurned a good chance to sidefoot Everton ahead when the 244th derby had its first flashpoint. Harrison put Calvert-Lewin through on goal with a delightful cross with the outside of his foot. The striker nudged the ball around Alisson and was sent sprawling by the Liverpool goalkeeper before he could convert. The referee Andy Madley pointed to the penalty spot and showed Alisson a yellow card, to the fury of the home crowd. Their mood deteriorated further when VAR found that Calvert-Lewin was offside. No penalty and no yellow card. The reprieve did not shake Liverpool out of their lethargy. Ben Godfrey launched himself into a vital challenge to prevent Núñez or Curtis Jones converting a first-time cross from Salah, but Everton remained in the ascendancy until the final 15 minutes of the first half. Godfrey headed wide when well-placed at a McNeil free-kick. Another McNeil free-kick found its way to Calvert-Lewin via James Tarkowski but Alisson saved the striker’s close-range header. It was third time lucky for McNeil free-kicks when another needless Liverpool foul, this time Jones on Gueye, presented the winger with one more opportunity to worry the visiting defence. Klopp’s team seemed blissfully unaware of Everton’s prowess at set pieces. The initial delivery was cleared to Tarkowski, who hooked the ball back across the area to Harrison. His first-time touch teed up Godfrey and, though his shot was blocked, the rebound fell invitingly for Branthwaite lurking unmarked on the edge of the six-yard box. The defender’s low shot squirmed under Alisson, rolled against the inside of a post and trickled in. There was another VAR check for offside but, after a lengthy delay, Everton were not denied a second time. Now Liverpool responded. Klopp’s side finally began to control possession and stretch the Everton defence. Jordan Pickford saved from Núñez when the Uruguay international was played through by Salah. The Everton keeper also denied Luis Díaz with his legs. Nunez created a clear opening for Salah but, having scuffed his initial shot against Branthwaite, Liverpool’s leading goalscorer skied the rebound wastefully. Everton also mounted fierce resistance in the face of Liverpool’s belated pressure. Branthwaite and Gueye threw themselves in the way of goalbound shots. Tarkowski dominated his penalty area, repelling numerous crosses. The pattern continued after the restart but, from their first break of note, Everton found the luxury of a second goal. McNeil stung Alisson’s fingertips with a powerful drive from 25 yards. From the resulting corner, taken deep by McNeil, Calvert-Lewin soared into a gap left by Trent Alexander-Arnold and Virgil van Dijk to head into the bottom corner. Liverpool, their title hopes fading, peppered the Everton area with crosses but frequently struck a royal blue shirt or found one closing them down inside the box. Díaz did beat Pickford but his curler from the left smacked the inside of the far post and bounced away. Pickford also denied Harvey Elliott and Salah late on as Everton secured a famous victory and Alexander-Arnold, sat on the bench, buried his head in his shirt. The image captured the pain of every Liverpool supporter.\"\n",
        "teks_kesehatan = \"The US Food and Drug Administration said Tuesday that it had detected viral particles of H5N1 avian influenza in milk purchased at grocery stores, but the agency says it still believes that the milk is safe to drink. In an update about an ongoing outbreak of bird flu in cattle, the FDA noted that it believes the viral particles were detected by highly sensitive lab tests and are likely to have been remnants of viruses killed during the pasteurization process. The agency said that it does not think it is likely that the particles would able to infect people but it is conducting additional tests to be completely sure. The FDA said these egg inoculation tests are “a gold-standard” for determining whether a virus is still viable and able to infect people. “To date, we have seen nothing that would change our assessment that the commercial milk supply is safe. Results from multiple studies will be made available in the next few days to weeks,” the agency said. Dr. Eric Topol, founder of the Scripps Research Translational Institute, said the finding of viral particles in milk on grocery store shelves means the outbreak is probably more widespread than we’ve known. “The dissemination to cows is far greater than we have been led to believe,” Topol said in an email Tuesday. “The FDA assurance that the dairy supply is safe is nice, but it’s not based on extensive assessment yet, which they acknowledge, and won’t engender trust and confidence because it comes in the wake of USDA mishandling,” he added. The US Department of Agriculture confirmed in late March that it had detected highly pathogenic avian influenza in dairy cows in Texas and Kansas, which was the first time a virus that has been decimating bird populations around the globe had shown up in cattle. Since then, infected cows have been confirmed in more than 30 farms across eight states. Scientists have said the USDA is sharing too little information about the virus and too slowly. The infected cows stopped eating as much as they usually did, and their milk became thickened and discolored. Veterinarians running tests on the animals found that the milk was teeming with the virus, although samples from their lungs didn’t show much evidence of infection, leading the doctors to believe that the animals’ mammary glands were directly infected, perhaps through shared milking equipment. Researchers are still trying to determine how cows initially became infected and how the virus is spreading between animals. Cats that have lived on the same farms as infected cows have died, perhaps after exposure to their milk. The FDA said Tuesday that milk from sick cows is being “diverted or destroyed,” while milk sold in interstate commerce is being pasteurized, a process that heats it briefly to kill microbes. “Even if virus is detected in raw milk, pasteurization is generally expected to eliminate pathogens to a level that does not pose a risk to consumer health,” the FDA stated. The agency said 99% of milk in the commercial supply comes from farms that follow the pasteurized milk ordinance, “which includes controls that help ensure the safety of dairy products.” However, it noted that pasteurization doesn’t render milk completely sterile. For that reason, it has been running tests on milk samples collected at grocery stores across the country. It is also collaborating with the food safety group at the US Centers for Disease Control and Prevention. The FDA has long recommended that consumers not drink unpasteurized or raw milk because of the possibility that it may harbor germs that can pose serious health risks. So far, efforts to track the spread of the current oubreak have relied on voluntary reporting. The USDA’s Animal and Plant Health Inspection Service keeps a list of diseases that are required to be reported in animals. Although avian influenza, or bird flu, is required to be reported in poultry and wild birds, reporting is not required in cattle. “No one ever thought it was going to be in cows,” said Dr. Richard Webby, director of the World Health Organization’s coordinating center for studies on the ecology of influenza at St. Jude’s Children’s Research Hospital. “You wouldn’t even think of an H5N1 in cows being something you’d ever have to worry about, and I think that’s where it’s fallen through the cracks a little bit.” Not only does the USDA require reporting of H5N1 in poultry, it rewards producers for reporting at the first sign of illness in their flock and financially compensates them for birds and eggs that are destroyed to contain an outbreak. This approach has encouraged farmers to be forthcoming with information, said Dr. Michael Osterholm, who directs the Center for Infectious Disease Research and Policy at the University of Minnesota. There are no such policies in place to encourage reporting in other livestock. Osterholm said his major worry is that the outbreak could spread to pigs, since farms that keep cows often keep other types of animals, too. Flu viruses enter cells through sialic acids, which serve as entry points. Right now, the H5N1 virus hasn’t learned to efficiently access the human version of the sialic acid receptor. Pigs have the same sialic acid receptors as both birds and humans in their respiratory tracts. If H5N1 causes a large outbreak in pigs, Osterholm said, it would give the virus a perfect opportunity to learn to attach to human sialic acids. “Pigs are a more efficient mixing bowl,” said Dr. Peter Hotez, a professor of pediatrics, molecular virology and microbiology at the Baylor College of Medicine in Houston. “The one thing about where we are in Texas is that, in addition to those cattle, Texas is the epicenter of the feral hog population.” “In the United States, we have 30% of the nation’s feral hogs, 2 to 3 million feral hogs, and so that to me is a potential risk, as well,” he said. The USDA said it has encouraged farmers and ranchers to report cases of sick cattle to state animal health officials. But neither cows nor the people who work or live around them are being widely screened for the infection, which would require informed consent. Testing of wastewater in areas with outbreaks is also being discussed. Instead, the CDC is monitoring emergency department data and flu testing data in areas where H5N1 viruses have been detected in dairy cattle for any unusual trends in flu-like illness, flu or conjunctivitis. “So far, these data remain in expected ranges, and to date, surveillance systems do not show any unusual trends or activity,” according to information in a statement compiled by officials at the CDC. CDC spokesperson Jason McDonald said that 23 people with exposures to H5N1 had been tested, including one person in Texas who previously tested positive. No other people have tested positive in the current outbreak, he said.\"\n",
        "teks_keuangan = \"2024 is already close to being halfway over. The stock market continues to flirt with all-time highs while interest rates are till hovering near the peak of last year. With all the uncertainty in the economy, many investors are still cautious where to park their money. While the “best” place is largely dependent on your financial goals, here are the eight most promising avenues for investing your hard-earned money for the rest of 2024. 1. Conquering Debt Kicking things off, let’s talk about the elephant in the room - debt. Staring at a collective household debt surpassing $17.5 trillion in the US had me wanting to hurl. With average household debt over $104,000 and credit card debt hitting the $1.13 trillion mark, it's clear: the path to financial freedom starts with tackling debt head-on. For me, realizing that paying off debt is a guaranteed return on investment was a game-changer. It didn’t mean that I had to have all of my debt paid off before I started investing. I just made sure I had a solid debt payoff plan plan to chip away at it, paving the way for more higher returning investments. Marc Russell who is the founder and owner of the popular financial literacy company, BetterWallet, paid off $80,000 of debt after college. $50,000 of that debt was cleared within 3 years. Russell says, “Paying off my debt was the best “promotion” I’ve ever received. Once the debt is gone, you can use that additional income to invest or spend on the things you love like vacations, without guilt.” 2. Dividend Stocks 2024 hit the ground running, with the S&P 500 reaching all-time highs within the first few weeks. But does that mean it’s wise to funnel all your savings into the stock market? Through my journey, I've learned that timing the market is a fool’s errand. Instead, dollar-cost averaging has been my mantra, allowing me to invest systematically and mitigate the risk of market volatility. I also began diving into dividend-paying stocks, particularly the Dividend Aristocrats of the S&P 500, has offered both growth and income, striking a balance between stability and profitability. Russell mentions that “It’s critical that you get in the market as early as you can. Focus less on how much you can invest but rather focus on how often you can invest. Companies like Fidelity offer tools where you can automatically invest daily, weekly, or monthly for as little as a dollar. Use that to your advantage!” 3. Banking on Banks Let’s talk about banks and their laughably low savings rates. After seeing my bank offer a measly 0.1% on savings, it was clear that settling for the status quo wasn’t going to cut it. The quest for high-yield savings accounts became a priority, underscoring the importance of not letting your money languish in underperforming accounts. Tyler Meyer, CFP® and CEO of QED Wealth Solutions, offers his thoughts on maximizing your returns, “Finding a reasonable return on your cash can be critically important…particularly if you have significant cash needs. Keeping money in a traditional savings account is rarely the answer, however typically banks will offer money market accounts or CDs with significantly higher interest rates.” Investors should also be aware that chasing the highest yield might now always be with time and effort. Meyer adds, “While shopping it out can certainly be helpful it is worth it to do the math on whether it is worth it. If you only keep $10k in cash, an extra 1% of yield is only an extra $100 per year.” 4. Real Estate Real estate remains a significant investment choice, drawing attention for its tangible value and potential for wealth accumulation. My investments typically skew towards digital realms, yet the stability and potential returns from physical properties continue to attract me. According to an Ameriprise FinancialAmeriprise Financial 0.0% survey reported by Yahoo Finance, approximately two-thirds of high-net-worth Americans own a second home, often utilized as vacation homes or sources of rental income. For those looking to actively engage in the real estate market, finding a mentor can provide essential insights and guidance, easing the entry into this investment area. Alternatively, platforms like Fundrise enable investors like myself to explore real estate opportunities from home, allowing for portfolio diversification through substantial, tangible assets without the need for direct management. This strategy aligns with a broader trend where real estate investment remains a preferred method for building long-term wealth. 5. Bitcoin Bitcoin Oh, Bitcoin. The year 2023 was tumultuous for cryptocurrencies, with exchanges crumbling one after another, making my Bitcoin journey a true emotional rollercoaster. Despite this, Bitcoin reached an all-time high in March, shining amidst the chaos. Recently, the Bitcoin halving event occurred, further influencing its value and availability. The introduction of new Bitcoin ETFs and increasing investments from institutional investors signify a growing acceptance and stabilization of Bitcoin in the broader financial landscape. This shift towards more mainstream investment vehicles and the significant capital inflow from institutional sources underscore a robust confidence in Bitcoin's potential, even in volatile markets. 6. Your Health Investing in one's health is an essential, non-negotiable aspect of personal and financial well-being. This importance hit home when a client's friend, who had just retired and achieved wealth, tragically passed away soon after. This unfortunate event serves as a constant reminder that all the money in the world doesn’t matter if you’re neglecting your health. Prioritizing both physical and mental health—through activities like regular exercise, healthy eating, or mental health care such as therapy—is vital. It ensures we can enjoy the fruits of our labor and effectively manage the stresses associated with maintaining and growing our investments. 7. Personal Growth From acquiring new certifications to diving deep into personal development, investing in myself has been a cornerstone of my journey. The pursuit of knowledge and skills not only enhances your value but also opens doors to opportunities previously unimaginable. For me, becoming a Certified Financial Planner (CFP®) wasn’t just about adding letters behind my name; it was a transformative process that broadened my horizon and deepened my understanding of wealth building. Obtaining degrees or certifications are just a few ways you can grow personally. Pursuing a new skill, whether to advance your career or a new hobby, enhances your life in profound ways. 8. The Side Hustle Diving into side hustles has really changed how I work, turning fun activities like making YouTube videos, blogging, or creating digital products into real money-makers. It's thrilling to see your passions pay off. This is why I often encourage people to explore different side hustles rather than trying to work overtime at their current employer. Side hustles are key in today's world—they boost your income and give you more security in a constantly changing job market. If you're ready to stand out in 2024, pick a project that excites you and might also fatten your wallet.\"\n",
        "\n",
        "texts = [teks_olaharaga, teks_kesehatan, teks_keuangan]\n",
        "bow_keys, corpus_texts = [], []\n",
        "\n",
        "for text in texts:\n",
        "  bow_keys, corpus_texts = text_preprocessing(bow_keys, corpus_texts, text)\n",
        "\n",
        "print(set(bow_keys))\n",
        "print(corpus_texts)"
      ],
      "metadata": {
        "id": "B_Tq2GyLRpiH",
        "colab": {
          "base_uri": "https://localhost:8080/"
        },
        "outputId": "4e20c6d0-3aeb-4d14-8cbc-8cfbb8d79f99"
      },
      "execution_count": null,
      "outputs": [
        {
          "output_type": "stream",
          "name": "stdout",
          "text": [
            "{'cross', 'wide', 'attract', 'hobby', 'microbe', 'think', 'update', 'commerce', 'intent', ',', 'could', 'growth', 'unfortunate', 'Hustle', 'official', 'wake', 'Tyler', 'coincidence', 'Jones', 'process', 'Michael', 'There', 'monthly', 'Finance', 'yellow', 'skill', 'Hospital', 'numerous', 'enhances', 'within', 'life', 'Instead', 'closing', 'provide', 'Certified', 'conjunctivitis', 'repelling', 'Finding', 'FDA', 'pig', 'hitting', 'mammary', 'Doucouré', 'property', 'though', 'efficient', 'real', 'Conquering', 'Diogo', 'greater', 'seeing', 'yet', 'park', 'literacy', 'data', 'Núñez', 'corner', 'lab', 'best', 'Kansas', 'Cats', \"'s\", 'minute', 'already', 'Yahoo', 'supply', 'close-range', 'often-troubled', 'likely', 'every', 'blue', 'director', 'name', 'Administration', 'side', 'animal', 'For', 'fell', 'threw', 'credit', 'Translational', 'Godfrey', 'perfect', 'building', 'half', 'illness', 'career', 'post', 'income', 'kind', 'development', 'critical', 'live', 'Inspection', 'goalscorer', 'heat', 'While', 'spurned', 'scuffed', 'This', 'Jordan', 'Merseyside', 'denied', 'CDC', 'rollercoaster', 'friend', 'continuing', 'forthcoming', 'acceptance', 'automatically', 'physical', 'study', 'investment', 'decimating', 'teed', 'shake', 'Peter', 'timing', 'making', 'acquiring', 'secured', 'remnant', 'neither', 'landscape', 'McNeil', 'Through', 'eight', 'receptor', 'March', 'money-makers', 'Everton', 'Their', 'overdue', 'Houston', 'well', 'broader', 'attention', 'Oh', 'image', 'deserved', 'composure', 'Pickford', 'whether', 'fired', 'believe', 'harbor', 'said', 'virology', 'tackling', 'Dominic', 'striking', 'positive', 'pattern', '50,000', 'mounted', 'value', 'lead', 'rolled', 'Gakpo', '30', 'dollar', 'They', 'determine', 'investing', 'Side', 'Salah', 'Agriculture', 'Institute', 'occurred', 'luxury', 'viable', 'mitigate', 'Chelsea', 'Results', '’', 'learn', '104,000', 'choice', 'local', '1', 'helpful', 'became', 'enable', 'ball', 'really', 'passed', 'daily', 'rates.', 'goalkeeper', 'excites', 'focus', 'change', '3', 'note', '-', 'broadened', 'convert', 'front', 'well-placed', 'gap', 'Topol', 'lived', 'volatile', 'horizon', 'defender', 'Real', 'previously', 'paying', 'working', 'entry', 'consent', 'night', 'From', 'might', 'possession', 'use', 'render', 'header', 'creating', 'penalty', 'destroyed', 'VAR', 'continued', 'good', 'bounced', 'much', 'Aristocrats', 'high-net-worth', 'missing', 'cell', 'University', 'monitoring', 'Let', 'tested', 'ready', '80,000', 'returning', 'mental', 'Prioritizing', 'Veterinarians', 'Debt', 'stung', 'contain', 'point', 'craves', 'period', 'yield', 'After', 'tool', 'first', 'time', 'purchased', 'Pursuing', 'health', 'determining', 'Health', 'increasing', 'control', 'Flu', 'market', 'opening', 'Drug', 'victory', 'producer', 'security', 'kill', 'Jürgen', 'say', 'level', 'known', 'le', 'promotion', 'would', 'sign', 'P', 'probably', 'flashpoint', 'owner', 'high-yield', 'strategy', 'one', 'Dividend', 'Alternatively', 'vital', 'rancher', 'wanting', 'people', '23', 'Díaz', 'fruit', 'gold-standard', 'tirelessly', 'cattle', 'curler', 'Eric', 'compiled', 'wallet', 'intensity', 'particle', 'Infectious', 'pursuit', 'hurl', 'YouTube', 'pain', 'chaos', 'derby', 'skied', 'long-term', 'shown', '“', 'performance', 'Right', 'Department', 'Webby', 'mention', 'per', 'manage', 'Solutions', 'fool', 'flirt', 'Harrison', 'Andy', 'midfield', 'discussed', 'quest', 'Americans', 'disease', 'sidefoot', 'added', 'shot', 'serious', 'cash', 'mainstream', 'But', 'opportunity', 'box', 'oubreak', 'large', 'cleared', 'report', 'unusual', 'shift', 'becoming', 'milk', 'enter', 'chasing', 'drawing', 'retired', 'letter', 'second', 'may', 'germ', 'It', 'neglecting', 'management', 'preferred', 'help', 'doctor', 'Jason', 'averaging', 'hustle', 'outside', 'client', 'critically', 'found', 'collected', 'Harvey', 'potential', 'includes', 'trend', 'Medicine', 'CEO', 'fury', 'Financial', 'Liverpool', 'expense', 'tragically', 'service', 'securing', 'payoff', 'collaborating', 'Tuesday', 'player', 'world—they', 'agency', 'significantly', 'fierce', 'follow', 'slump', 'key', 'enjoy', 'savour', 'return', 'sample', 'Klopp', 'raw', 'directly', 'crumbling', 'sialic', 'lung', 'Jack', 'multiple', 'attach', 'Disease', 'behind', 'St.', 'CFP®', 'method', 'vacation', 'sprawling', 'introduction', 'ground', 'Research', 'close', 'sick', 'coordinating', 'overtime', 'sterile', 'Prevention', 'surveillance', 'mixing', 'journey', 'Children', 'yard', 'final', 'Wealth', 'day', 'evidence', 'wild', 'delivered', 'plan', 'Researchers', 'goal', 'emotional', 'visiting', 'Banking', 'thickened', 'avian', 'hard-earned', 'Despite', 'seemed', 'cause', 'acknowledge', 'briefly', 'reached', 'job', 'new', 'clear', 'case', 'tumultuous', 'non-negotiable', 'damaging', 'last', 'maximizing', 'partner', 'edge', 'first-time', 'stability', 'ecology', 'Pigs', 'Not', 'Jude', 'Nunez', 'break', 'wise', 'You', 'mark', 'health—through', 'Osterholm', 'smacked', 'FinancialAmeriprise', '?', 'unpasteurized', 'worth', 'two-thirds', 'consigned', 'growing', 'like', 'transformative', 'reward', 'sent', '25', 'hooked', 'wanted', 'pressure', 'tangible', 'halfway', 'Ameriprise', 'profound', 'Food', ':', '&', 'year', 'cornerstone', 'ETFs', 'Dwight', 'S', 'safe', 'eliminate', 'Focus', 'certification', 'I', 'Arsenal', '2', 'Staring', 'Banks', 'stress', 'work', 'Where', 'across', 'reaching', 'accumulation', 'maintaining', 'world', 'solid', 'avenue', 'aware', '2023', 'estate', 'completely', 'vulnerable', 'actively', 'require', 'Investors', 'systematically', 'went', 'World', 'come', 'survey', 'Luis', '%', 'commercial', 'made', 'diverted', 'pathogen', 'arrived', 'captured', 'stopped', 'needle', 'Russell', 'face', 'supporter', 'little', 'bit.', 'also', 'famous', 'guilt.', 'Personal', 'adding', 'aligns', 'Fundrise', 'guidance', 'globe', 'Diving', 'remembered', 'still', 'beat', 'noted', 'infected', 'possibility', 'going', 'hog', 'top-flight', 'bird', 'centre-forward', 'late', 'triumphant', 'poultry', 'spot', 'exchange', 'matter', 'Idrissa', 'advance', 'near', 'joining', 'ascendancy', 'restart', 'pointed', 'epicenter', 'different', 'respiratory', 'hugely', 'Dr.', 'pathogenic', 'average', 'offered', 'asset', 'project', 'Center', 'amidst', 'founder', 'taken', 'open', 'personally', 'math', 'That', 'remain', 'farm', 'striker', 'approximately', '244th', 'unmarked', 'Goodison', 'resulting', 'shirt', 'activity', 'season', 'boost', 'team', 'equipment', 'Garner', 'gone', 'event', 'changing', 'blow', 'keep', 'explore', 'significant', 'game-changer', 'faltered', 'dream', 'To', 'paving', 'year.', 'detected', 'discolored', 'policy', 'safety', 'products.', 'free-kick', 'way', 'widely', 'debt', 'even', 'headed', 'Sean', 'dissemination', 'defence', 'feral', 'set', 'fading', 'offside', 'all-time', 'funnel', 'frequently', \"'ve\", 'goalbound', ';', 'His', 'defeat', 'Manchester', 'The', 'improved', 'damning', 'sure', 'million', 'hovering', 'path', 'diving', 'viral', 'simply', 'belief', 'Stocks', 'league', 'greatly', 'largely', 'perhaps', 'investor', 'referee', 'contribution', 'Cody', 'Animal', 'underscoring', 'acid', 'without', 'milking', \"'re\", 'Tarkowski', 'cut', 'six-yard', 'need', 'serve', 'interest', 'exercise', 'initially', 'based', 'capital', 'microbiology', 'door', 'letting', 'product', 'drive', 'source', 'invest', 'emergency', 'video', 'fatten', 'reported', 'information', 'range', 'spreading', 'toil', 'remained', '!', 'possible', 'worry', 'relied', 'lethargy', 'center', 'compensates', 'major', 'human', 'continues', 'royal', 'spokesperson', 'list', 'BetterWallet', 'perspective', '0.1', 'underperforming', 'labor', 'associated', 'Bitcoin', 'ensure', 'resistance', 'substantial', 'superbly', 'virus', 'mishandling', 'directs', 'hour', 'put', 'grocery', 'soared', 'recommended', 'advantage', 'According', 'Even', 'winger', 'rather', 'laughably', ')', 'healthy', 'influenza', 'running', 'approach', 'vehicle', 'since', '1.13', 'squirmed', 'injured', 'foot', 'stand', 'looking', 'system', 'responded', 'reprieve', 'influencing', 'room', 'always', 'grow', 'thrilling', '14', 'nice', 'touch', 'college', 'Another', 'efficiently', 'constant', 'Estate', 'foul', 'trust', 'sweeter', 'able', 'reminder', 'Growth', 'challenge', 'paid', 'cautious', 'essential', 'Victory', 'money', 'spend', 'pay', 'prevent', 'imperious', 'free-kicks', 'Scripps', 'Gana', 'Control', 'sharing', 'balance', 'Alexander-Arnold', 'volatility', 'effort', 'personal', 'passion', 'crowd', 'trickled', 'rental', 'easing', 'dollar-cost', 'effectively', 'pasteurized', '6', 'today', 'drink', 'something', 'leg', 'peppered', 'around', 'professor', 'Keeping', '500', 'wastewater', 'week', 'CDs', 'delay', 'therapy—is', '(', 'farmer', 'card', 'So', 'injury', 'Since', 'bench', 'typically', 'ensures', 'ordinance', 'Kicking', 'Calvert-Lewin', 'powerful', 'Premier', 'allowing', 'turning', 'pick', 'encouraged', 'pulsated', 'Policy', 'surpassing', '7', 'signify', 'emphatic', 'peak', 'interstate', 'quality', 'direct', 'flu', 'Jota', 'clinical', 'old', 'access', 'country', 'James', 'statement', 'created', 'weekly', '2024', '8', 'place', 'Curtis', 'degree', 'including', 'buried', 'ongoing', 'additional', 'stated', 'current', 'early', 'mentor', 'saving', 'show', 'conducting', 'pose', 'However', '$', 'shared', 'inflow', 'finally', 'reason', 'No', 'received', 'deep', 'track', 'H5N1', 'belated', 'nudged', 'assessment', 'give', 'delightful', 'area', 'voluntary', '15', '99', 'sideline', 'date', 'Minnesota', 'check', 'initial', 'Investing', 'dividend-paying', 'doubt', 'sat', 'freedom', 'performed', 'availability', 'Mohamed', 'bottom', 'economy', 'rejoiced', 'reporting', 'presented', 'shelf', 'measly', 'Service', 'Marc', 'food', 'crack', 'particularly', 'Quite', 'blocked', 'started', 'engage', 'thought', 'responding', 'screened', 'infect', 'blissfully', 'Now', 'wealth', 'van', 'Park', 'assert', 'delivery', 'signing', 'outbreak', 'inside', 'mood', 'chip', 'Companies', 'errand', 'USDA', 'infection', 'fingertip', 'long', 'Alisson', 'thing', 'extensive', 'required', 'knowledge', 'higher', 'gland', 'consumer', 'next', 'store', 'via', 'population.', 'Gueye', 'line', 'engender', 'low', 'finding', 'outstanding', 'Madley', 'state', 'lost', 'uncertainty', 'Testing', 'wastefully', 'confirmed', 'let', 'flu-like', 'My', 'invitingly', 'digital', 'Plant', 'bellowed', 'type', 'expected', 'League', 'teeming', 'Baylor', 'US', 'trying', 'stock', 'lucky', 'rest', 'household', 'mean', 'fallen', 'importance', 'traditional', 'widespread', 'encourage', 'quo', 'realizing', 'College', 'profitability', 'unimaginable', 'add', 'began', 'insight', 'company', 'Texas', 'converting', 'highest', 'States', 'Fidelity', 'Uruguay', 'If', 'changed', 'seen', 'Richard', 'cryptocurrencies', 'realm', 'labour', 'nothing', 'dominated', 'chance', 'flock', 'bowl', 'Virgil', 'head-on', 'soon', 'Once', 'shining', 'worst', 'eve', 'see', 'played', 'livestock', 'department', 'kick-off', 'Although', 'far', 'fun', 'Darwin', '10k', 'population', 'prowess', 'In', 'Meyer', 'portfolio', 'understanding', 'rattled', 'scored', 'Trent', 'absent', 'financially', 'hit', 'testing', '0.0', 'stabilization', 'stretch', 'dependent', 'struck', 'launched', 'left', 'title', 'killed', 'cow', 'test', 'leading', 'nation', 'exposure', 'elephant', 'assurance', 'design', 'gave', 'latter', 'confidence', 'died', 'QED', 'achieved', 'Hotez', 'international', 'collective', 'halving', 'home', 'tract', 'platform', '17.5', 'languish', 'Paying', 'status', 'talk', 'regular', 'McDonald', 'towards', 'email', 'serf', 'priority', 'With', '”', 'high', 'Centers', 'hope', 'molecular', 'showed', 'usually', 'extra', 'tasted', '.', 'learned', 'blogging', 'love', 'bank', 'Organization', '2.', 'Dijk', 'rarely', 'available', 'sensitive', 'piece', 'Elliott', 'led', 'deteriorated', 'although', 'ahead', 'Abdoulaye', 'pasteurization', 'eating', 'generally', 'start', 'addition', 'according', 'remains', 'saved', 'diversification', 'Use', 'sold', 'keeper', '100', 'third', 'reasonable', 'unaware', 'reign', 'egg', 'rival', 'Obtaining', 'popular', 'shopping', 'pediatrics', 'continue', 'slowly', 'informed', 'game', 'another', 'guaranteed', 'back', 'rate', 'utilized', 'true', 'aspect', 'United', 'certainly', 'dairy', 'almost', 'Scientists', '4', 'away', 'many', 'deepened', 'institutional', 'promising', 'Dyche', 'head', 'risk', 'lurking', 'financial', 'answer', 'skew', 'version', 'robust', 'Recently', 'get', 'well-being', 'ever', 'rebound', 'Branthwaite', 'lengthy', 'underscore', 'spread', 'person', 'group', 'highly', 'Ben', 'trillion', 'however', 'mantra', 'Planner', 'till', 'account', 'care', 'important…particularly', 'employer', '5', 'constantly', 'often', 'Your', 'offer', 'Jarrad', 'settling', 'inoculation'}\n",
            "['The final Merseyside derby Jürgen Klopp ’ Liverpool reign might well remembered final blow dream signing Premier League title . For first time 14 year , first time Klopp , Everton triumphant local rival Goodison Park . Victory tasted sweeter Sean Dyche ’ team almost certainly securing top-flight status expense Liverpool ’ title shot . “ You lost league Goodison Park , ” home crowd bellowed rejoiced deserved Everton victory , outstanding Everton performance best night Dyche ’ often-troubled reign . The imperious Jarrad Branthwaite Dominic Calvert-Lewin scored goal consigned Liverpool hugely damaging defeat . Quite simply , Everton wanted . That damning team arrived design title need responding Arsenal ’ emphatic defeat Chelsea night . Liverpool faltered worst possible time worst possible place perspective . Everton Manchester United savour contribution slump . Dyche ’ player fired Goodison responded kind . The old ground pulsated Everton performed intent , intensity quality absent often season . Where team ? Calvert-Lewin , injury doubt eve game , led line superbly . It coincidence supply centre-forward improved greatly . Jack Harrison Dwight McNeil delivered service Calvert-Lewin craves working tirelessly help Idrissa Gana Gueye James Garner assert control midfield . Liverpool rattled vulnerable long Branthwaite gave Everton overdue lead . Liverpool missing Diogo Jota Cody Gakpo , latter joining injured striker sideline partner went labour hour kick-off . They also missing composure long period clinical touch front goal , toil Darwin Núñez Mohamed Salah continuing . Abdoulaye Doucouré already spurned good chance sidefoot Everton ahead 244th derby first flashpoint . Harrison put Calvert-Lewin goal delightful cross outside foot . The striker nudged ball around Alisson sent sprawling Liverpool goalkeeper could convert . The referee Andy Madley pointed penalty spot showed Alisson yellow card , fury home crowd . Their mood deteriorated VAR found Calvert-Lewin offside . No penalty yellow card . The reprieve shake Liverpool lethargy . Ben Godfrey launched vital challenge prevent Núñez Curtis Jones converting first-time cross Salah , Everton remained ascendancy final 15 minute first half . Godfrey headed wide well-placed McNeil free-kick . Another McNeil free-kick found way Calvert-Lewin via James Tarkowski Alisson saved striker ’ close-range header . It third time lucky McNeil free-kicks another needle Liverpool foul , time Jones Gueye , presented winger one opportunity worry visiting defence . Klopp ’ team seemed blissfully unaware Everton ’ prowess set piece . The initial delivery cleared Tarkowski , hooked ball back across area Harrison . His first-time touch teed Godfrey , though shot blocked , rebound fell invitingly Branthwaite lurking unmarked edge six-yard box . The defender ’ low shot squirmed Alisson , rolled inside post trickled . There another VAR check offside , lengthy delay , Everton denied second time . Now Liverpool responded . Klopp ’ side finally began control possession stretch Everton defence . Jordan Pickford saved Núñez Uruguay international played Salah . The Everton keeper also denied Luis Díaz leg . Nunez created clear opening Salah , scuffed initial shot Branthwaite , Liverpool ’ leading goalscorer skied rebound wastefully . Everton also mounted fierce resistance face Liverpool ’ belated pressure . Branthwaite Gueye threw way goalbound shot . Tarkowski dominated penalty area , repelling numerous cross . The pattern continued restart , first break note , Everton found luxury second goal . McNeil stung Alisson ’ fingertip powerful drive 25 yard . From resulting corner , taken deep McNeil , Calvert-Lewin soared gap left Trent Alexander-Arnold Virgil van Dijk head bottom corner . Liverpool , title hope fading , peppered Everton area cross frequently struck royal blue shirt found one closing inside box . Díaz beat Pickford curler left smacked inside far post bounced away . Pickford also denied Harvey Elliott Salah late Everton secured famous victory Alexander-Arnold , sat bench , buried head shirt . The image captured pain every Liverpool supporter .', 'The US Food Drug Administration said Tuesday detected viral particle H5N1 avian influenza milk purchased grocery store , agency say still belief milk safe drink . In update ongoing outbreak bird flu cattle , FDA noted belief viral particle detected highly sensitive lab test likely remnant virus killed pasteurization process . The agency said think likely particle would able infect people conducting additional test completely sure . The FDA said egg inoculation test “ gold-standard ” determining whether virus still viable able infect people . “ To date , seen nothing would change assessment commercial milk supply safe . Results multiple study made available next day week , ” agency said . Dr. Eric Topol , founder Scripps Research Translational Institute , said finding viral particle milk grocery store shelf mean outbreak probably widespread ’ known . “ The dissemination cow far greater led believe , ” Topol said email Tuesday . “ The FDA assurance dairy supply safe nice , ’ based extensive assessment yet , acknowledge , ’ engender trust confidence come wake USDA mishandling , ” added . The US Department Agriculture confirmed late March detected highly pathogenic avian influenza dairy cow Texas Kansas , first time virus decimating bird population around globe shown cattle . Since , infected cow confirmed 30 farm across eight state . Scientists said USDA sharing little information virus slowly . The infected cow stopped eating much usually , milk became thickened discolored . Veterinarians running test animal found milk teeming virus , although sample lung ’ show much evidence infection , leading doctor believe animal ’ mammary gland directly infected , perhaps shared milking equipment . Researchers still trying determine cow initially became infected virus spreading animal . Cats lived farm infected cow died , perhaps exposure milk . The FDA said Tuesday milk sick cow “ diverted destroyed , ” milk sold interstate commerce pasteurized , process heat briefly kill microbe . “ Even virus detected raw milk , pasteurization generally expected eliminate pathogen level pose risk consumer health , ” FDA stated . The agency said 99 % milk commercial supply come farm follow pasteurized milk ordinance , “ includes control help ensure safety dairy products. ” However , noted pasteurization ’ render milk completely sterile . For reason , running test milk sample collected grocery store across country . It also collaborating food safety group US Centers Disease Control Prevention . The FDA long recommended consumer drink unpasteurized raw milk possibility may harbor germ pose serious health risk . So far , effort track spread current oubreak relied voluntary reporting . The USDA ’ Animal Plant Health Inspection Service keep list disease required reported animal . Although avian influenza , bird flu , required reported poultry wild bird , reporting required cattle . “ No one ever thought going cow , ” said Dr. Richard Webby , director World Health Organization ’ coordinating center study ecology influenza St. Jude ’ Children ’ Research Hospital . “ You ’ even think H5N1 cow something ’ ever worry , I think ’ ’ fallen crack little bit. ” Not USDA require reporting H5N1 poultry , reward producer reporting first sign illness flock financially compensates bird egg destroyed contain outbreak . This approach encouraged farmer forthcoming information , said Dr. Michael Osterholm , directs Center Infectious Disease Research Policy University Minnesota . There policy place encourage reporting livestock . Osterholm said major worry outbreak could spread pig , since farm keep cow often keep type animal , . Flu virus enter cell sialic acid , serve entry point . Right , H5N1 virus ’ learned efficiently access human version sialic acid receptor . Pigs sialic acid receptor bird human respiratory tract . If H5N1 cause large outbreak pig , Osterholm said , would give virus perfect opportunity learn attach human sialic acid . “ Pigs efficient mixing bowl , ” said Dr. Peter Hotez , professor pediatrics , molecular virology microbiology Baylor College Medicine Houston . “ The one thing Texas , addition cattle , Texas epicenter feral hog population. ” “ In United States , 30 % nation ’ feral hog , 2 3 million feral hog , potential risk , well , ” said . The USDA said encouraged farmer rancher report case sick cattle state animal health official . But neither cow people work live around widely screened infection , would require informed consent . Testing wastewater area outbreak also discussed . Instead , CDC monitoring emergency department data flu testing data area H5N1 virus detected dairy cattle unusual trend flu-like illness , flu conjunctivitis . “ So far , data remain expected range , date , surveillance system show unusual trend activity , ” according information statement compiled official CDC . CDC spokesperson Jason McDonald said 23 people exposure H5N1 tested , including one person Texas previously tested positive . No people tested positive current outbreak , said .', \"2024 already close halfway . The stock market continues flirt all-time high interest rate till hovering near peak last year . With uncertainty economy , many investor still cautious park money . While “ best ” place largely dependent financial goal , eight promising avenue investing hard-earned money rest 2024 . 1 . Conquering Debt Kicking thing , let ’ talk elephant room - debt . Staring collective household debt surpassing $ 17.5 trillion US wanting hurl . With average household debt $ 104,000 credit card debt hitting $ 1.13 trillion mark , 's clear : path financial freedom start tackling debt head-on . For , realizing paying debt guaranteed return investment game-changer . It ’ mean I debt paid I started investing . I made sure I solid debt payoff plan plan chip away , paving way higher returning investment . Marc Russell founder owner popular financial literacy company , BetterWallet , paid $ 80,000 debt college . $ 50,000 debt cleared within 3 year . Russell say , “ Paying debt best “ promotion ” I ’ ever received . Once debt gone , use additional income invest spend thing love like vacation , without guilt. ” 2. Dividend Stocks 2024 hit ground running , S & P 500 reaching all-time high within first week . But mean ’ wise funnel saving stock market ? Through journey , I 've learned timing market fool ’ errand . Instead , dollar-cost averaging mantra , allowing invest systematically mitigate risk market volatility . I also began diving dividend-paying stock , particularly Dividend Aristocrats S & P 500 , offered growth income , striking balance stability profitability . Russell mention “ It ’ critical get market early . Focus le much invest rather focus often invest . Companies like Fidelity offer tool automatically invest daily , weekly , monthly little dollar . Use advantage ! ” 3 . Banking Banks Let ’ talk bank laughably low saving rate . After seeing bank offer measly 0.1 % saving , clear settling status quo ’ going cut . The quest high-yield saving account became priority , underscoring importance letting money languish underperforming account . Tyler Meyer , CFP® CEO QED Wealth Solutions , offer thought maximizing return , “ Finding reasonable return cash critically important…particularly significant cash need . Keeping money traditional saving account rarely answer , however typically bank offer money market account CDs significantly higher interest rates. ” Investors also aware chasing highest yield might always time effort . Meyer add , “ While shopping certainly helpful worth math whether worth . If keep $ 10k cash , extra 1 % yield extra $ 100 per year. ” 4 . Real Estate Real estate remains significant investment choice , drawing attention tangible value potential wealth accumulation . My investment typically skew towards digital realm , yet stability potential return physical property continue attract . According Ameriprise FinancialAmeriprise Financial 0.0 % survey reported Yahoo Finance , approximately two-thirds high-net-worth Americans second home , often utilized vacation home source rental income . For looking actively engage real estate market , finding mentor provide essential insight guidance , easing entry investment area . Alternatively , platform like Fundrise enable investor like explore real estate opportunity home , allowing portfolio diversification substantial , tangible asset without need direct management . This strategy aligns broader trend real estate investment remains preferred method building long-term wealth . 5 . Bitcoin Bitcoin Oh , Bitcoin . The year 2023 tumultuous cryptocurrencies , exchange crumbling one another , making Bitcoin journey true emotional rollercoaster . Despite , Bitcoin reached all-time high March , shining amidst chaos . Recently , Bitcoin halving event occurred , influencing value availability . The introduction new Bitcoin ETFs increasing investment institutional investor signify growing acceptance stabilization Bitcoin broader financial landscape . This shift towards mainstream investment vehicle significant capital inflow institutional source underscore robust confidence Bitcoin 's potential , even volatile market . 6 . Your Health Investing one 's health essential , non-negotiable aspect personal financial well-being . This importance hit home client 's friend , retired achieved wealth , tragically passed away soon . This unfortunate event serf constant reminder money world ’ matter ’ neglecting health . Prioritizing physical mental health—through activity like regular exercise , healthy eating , mental health care therapy—is vital . It ensures enjoy fruit labor effectively manage stress associated maintaining growing investment . 7 . Personal Growth From acquiring new certification diving deep personal development , investing cornerstone journey . The pursuit knowledge skill enhances value also open door opportunity previously unimaginable . For , becoming Certified Financial Planner ( CFP® ) ’ adding letter behind name ; transformative process broadened horizon deepened understanding wealth building . Obtaining degree certification way grow personally . Pursuing new skill , whether advance career new hobby , enhances life profound way . 8 . The Side Hustle Diving side hustle really changed I work , turning fun activity like making YouTube video , blogging , creating digital product real money-makers . It 's thrilling see passion pay . This I often encourage people explore different side hustle rather trying work overtime current employer . Side hustle key today 's world—they boost income give security constantly changing job market . If 're ready stand 2024 , pick project excites might also fatten wallet .\"]\n"
          ]
        }
      ]
    },
    {
      "cell_type": "markdown",
      "source": [
        "#### Text Vectorization"
      ],
      "metadata": {
        "id": "wC2BZ5t4MK9e"
      }
    },
    {
      "cell_type": "code",
      "source": [
        "text_baru = \"Cristiano Ronaldo came off the bench to earn Manchester United a hard-fought 2-1 victory at Everton in the Premier League on Sunday, taking his career goal tally to 700 in the process. Just as United did last weekend in their derby mauling at the hands of local rivals Manchester City, they again found themselves behind early on at Goodison Park after Alex Iwobi curled a sublime strike into the net from 20 metres.\"\n",
        "bow_keys, corpus_texts = text_preprocessing(bow_keys, corpus_texts, text_baru, is_testing=True)\n",
        "\n",
        "cv = CountVectorizer() ## Creating Object for CountVectorizer\n",
        "bow_vectors = cv.fit_transform(corpus_texts).toarray()\n",
        "\n",
        "print(bow_vectors)\n",
        "print(len(bow_vectors[0]))"
      ],
      "metadata": {
        "colab": {
          "base_uri": "https://localhost:8080/"
        },
        "id": "rtqxF5L5a7Ac",
        "outputId": "37c6cd59-91d5-44da-b003-07652a9393c0"
      },
      "execution_count": null,
      "outputs": [
        {
          "output_type": "stream",
          "name": "stdout",
          "text": [
            "[[0 0 0 ... 1 0 0]\n",
            " [0 0 0 ... 1 0 0]\n",
            " [3 1 1 ... 0 1 1]\n",
            " [0 0 0 ... 0 0 0]]\n",
            "1138\n"
          ]
        }
      ]
    },
    {
      "cell_type": "markdown",
      "source": [
        "#### Text Similarity"
      ],
      "metadata": {
        "id": "tdgho0fuMSFH"
      }
    },
    {
      "cell_type": "code",
      "source": [
        "# Normalize the BoW vectors\n",
        "bow_texts_norm = []\n",
        "for bow in bow_vectors:\n",
        "  length = (sum(i**2 for i in bow))**0.5\n",
        "  bow_norm = bow / length\n",
        "  bow_texts_norm.append(bow_norm)\n",
        "\n",
        "# Compute similarity using dot product\n",
        "similarity_vector = []\n",
        "bow_norm_query = bow_texts_norm[3]\n",
        "for bow in bow_texts_norm[:3]:\n",
        "  similarity_vector.append(sum(i * j for i, j in zip(bow, bow_norm_query)))\n",
        "\n",
        "print(similarity_vector)\n",
        "\n",
        "# Find the highest similarity\n",
        "id_max_sim = similarity_vector.index(max(similarity_vector))\n",
        "if id_max_sim == 0:\n",
        "  print (\"The query text is classified as: Olahraga\")\n",
        "elif id_max_sim == 1:\n",
        "  print (\"The query text is classified as: Kesehatan\")\n",
        "elif id_max_sim == 2:\n",
        "  print (\"The query text is classified as: Keuangan\")"
      ],
      "metadata": {
        "id": "zO_oKHnMa94o",
        "outputId": "d3a17d5c-7932-470f-9059-0ac9ff4ad160",
        "colab": {
          "base_uri": "https://localhost:8080/"
        }
      },
      "execution_count": null,
      "outputs": [
        {
          "output_type": "stream",
          "name": "stdout",
          "text": [
            "[0.21847491964220836, 0.020532539058829548, 0.032762546404063626]\n",
            "The query text is classified as: Olahraga\n"
          ]
        }
      ]
    }
  ]
}